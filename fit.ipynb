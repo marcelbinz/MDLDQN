{
 "cells": [
  {
   "cell_type": "code",
   "execution_count": 13,
   "metadata": {},
   "outputs": [],
   "source": [
    "from tqdm import tqdm\n",
    "from baselines import ValueDirected, ThompsonSampling, UCB\n",
    "from utils import load_csv\n",
    "import torch\n",
    "import numpy as np\n",
    "import math\n",
    "\n",
    "import matplotlib.pyplot as plt\n",
    "import seaborn as sns"
   ]
  },
  {
   "cell_type": "code",
   "execution_count": 22,
   "metadata": {},
   "outputs": [
    {
     "name": "stderr",
     "output_type": "stream",
     "text": [
      "100%|██████████| 44/44 [00:00<00:00, 169.09it/s]"
     ]
    },
    {
     "name": "stdout",
     "output_type": "stream",
     "text": [
      "[[ -91.5393702  -179.47007138]\n",
      " [ -59.09533174  -74.1231912 ]\n",
      " [ -65.70023195  -65.43616182]\n",
      " [ -60.99078734  -67.00861818]\n",
      " [ -61.23017384  -75.68881396]\n",
      " [ -69.65063379  -94.93927274]\n",
      " [ -67.24991155 -105.07617323]\n",
      " [ -85.62623309 -134.0038768 ]\n",
      " [ -67.74363469  -95.47613677]\n",
      " [ -54.3816047   -56.53567642]\n",
      " [ -92.59346822 -374.88334235]\n",
      " [ -53.28215111  -51.97529703]\n",
      " [ -78.24717577  -85.82919387]\n",
      " [ -77.24183003 -258.0286787 ]\n",
      " [ -60.10660294  -77.02023685]\n",
      " [ -78.74432632  -98.50447556]\n",
      " [ -61.79525469  -73.77795853]\n",
      " [ -86.37295006 -115.9561458 ]\n",
      " [-112.47978068 -163.81313848]\n",
      " [ -63.83806798  -75.08171636]\n",
      " [ -63.38518991  -67.95398996]\n",
      " [ -90.79800968  -93.18438838]\n",
      " [ -83.66010355  -82.25329414]\n",
      " [ -71.83741345 -232.88387753]\n",
      " [ -60.09595536 -348.52674747]\n",
      " [ -65.90971853 -104.07211912]\n",
      " [-118.40376136 -209.00954066]\n",
      " [ -77.42798355 -117.3280979 ]\n",
      " [ -87.96100948 -127.98806898]\n",
      " [ -83.10352307 -103.56737522]\n",
      " [ -94.04367763 -136.42962445]\n",
      " [ -89.02053912 -317.40096249]\n",
      " [ -84.03365205 -108.04220564]\n",
      " [-130.99239493 -195.20741756]\n",
      " [ -59.74356909  -72.51527494]\n",
      " [ -69.89582322 -359.02122649]\n",
      " [ -46.71242287 -100.31508566]\n",
      " [ -63.20354222  -62.93566286]\n",
      " [ -50.97682387  -42.75758077]\n",
      " [ -63.37922254 -127.4445772 ]\n",
      " [ -77.63365411 -288.75380389]\n",
      " [ -93.76783546 -136.82246253]\n",
      " [ -65.21311739 -117.3537682 ]\n",
      " [ -65.19420882  -89.17635353]]\n"
     ]
    },
    {
     "name": "stderr",
     "output_type": "stream",
     "text": [
      "\n"
     ]
    }
   ],
   "source": [
    "ts = ThompsonSampling()\n",
    "ucb = UCB()\n",
    "mean_var = 100\n",
    "reward_var = 10\n",
    "\n",
    "model_samples = 100\n",
    "num_models = 10\n",
    "eps = 1 / 1000\n",
    "\n",
    "current_data = load_csv('data/data2.csv')\n",
    "likelihood_ucbts = np.zeros((len(current_data), 2))\n",
    "\n",
    "# for each subject\n",
    "for subject in tqdm(range(len(current_data))):\n",
    "    \n",
    "    # for each N\n",
    "    for n in range(2):           \n",
    "        # for each step\n",
    "        for i in range(current_data[0, subject]['c'].shape[0]):\n",
    "\n",
    "            # reset in first step\n",
    "            if not (i % 10):\n",
    "                priors = np.zeros((2, 2))\n",
    "                priors[:, 1] = mean_var\n",
    "                obs = torch.zeros(1, 2)\n",
    "            else:\n",
    "                obs[0, 0] = current_data[0, subject]['r'][i-1]\n",
    "                obs[0, 1] = float(current_data[0, subject]['c'][i-1, 0]) - 1\n",
    "            \n",
    "            action = float(current_data[0, subject]['c'][i, 0]) - 1 \n",
    "            reward = current_data[0, subject]['r'][i]\n",
    "                           \n",
    "            \n",
    "            if n == 0:\n",
    "                action_ts = ts.act(priors)\n",
    "                action_ts = min(max(action_ts, eps), 1-eps)\n",
    "                likelihood_ucbts[subject, 0] += action * math.log(action_ts) + (1 - action) * math.log(1 - action_ts)\n",
    "                \n",
    "                alpha = (priors[int(action), 1]) / (priors[int(action), 1] + reward_var)\n",
    "                priors[int(action), 0] = priors[int(action), 0] + alpha * (reward - priors[int(action), 0])\n",
    "                priors[int(action), 1] = priors[int(action), 1] - alpha * priors[int(action), 1]\n",
    "        \n",
    "            elif n == 1:\n",
    "                action_ucb = ucb.act(priors)\n",
    "                action_ucb = min(max(action_ucb, eps), 1-eps)\n",
    "                likelihood_ucbts[subject, 1] += action * math.log(action_ucb) + (1 - action) * math.log(1 - action_ucb)\n",
    "                \n",
    "                alpha = (priors[int(action), 1]) / (priors[int(action), 1] + reward_var)\n",
    "                priors[int(action), 0] = priors[int(action), 0] + alpha * (reward - priors[int(action), 0])\n",
    "                priors[int(action), 1] = priors[int(action), 1] - alpha * priors[int(action), 1]\n",
    "                \n",
    "        \n",
    "np.save('data/likelihood_ucbts.npy', likelihood_ucbts)    "
   ]
  },
  {
   "cell_type": "code",
   "execution_count": 2,
   "metadata": {},
   "outputs": [
    {
     "name": "stderr",
     "output_type": "stream",
     "text": [
      "  0%|          | 0/44 [00:00<?, ?it/s]/home/marcel/anaconda3/envs/py36/lib/python3.6/site-packages/torch/serialization.py:367: SourceChangeWarning: source code of class 'models.mdlrdqn.MDLRDQN' has changed. you can retrieve the original source code by accessing the object's source attribute or set `torch.nn.Module.dump_patches = True` and use the patch tool to revert the changes.\n",
      "  warnings.warn(msg, SourceChangeWarning)\n",
      "/home/marcel/anaconda3/envs/py36/lib/python3.6/site-packages/torch/serialization.py:367: SourceChangeWarning: source code of class 'models.linear.LinearGroupHS' has changed. you can retrieve the original source code by accessing the object's source attribute or set `torch.nn.Module.dump_patches = True` and use the patch tool to revert the changes.\n",
      "  warnings.warn(msg, SourceChangeWarning)\n",
      "/home/marcel/anaconda3/envs/py36/lib/python3.6/site-packages/torch/serialization.py:367: SourceChangeWarning: source code of class 'models.recurrent.GroupHSGRUCell' has changed. you can retrieve the original source code by accessing the object's source attribute or set `torch.nn.Module.dump_patches = True` and use the patch tool to revert the changes.\n",
      "  warnings.warn(msg, SourceChangeWarning)\n",
      "100%|██████████| 44/44 [3:52:24<00:00, 316.92s/it]  \n"
     ]
    }
   ],
   "source": [
    "vd = ValueDirected()\n",
    "mean_var = 100\n",
    "reward_var = 10\n",
    "\n",
    "policies = [256, 512, 1024, 2048, 4096, 8192] \n",
    "\n",
    "model_samples = 100\n",
    "num_models = 10\n",
    "eps = 1 / (model_samples * num_models)\n",
    "\n",
    "current_data = load_csv('data/data2.csv')\n",
    "likelihood_human = np.zeros((len(current_data), len(policies) + 1))\n",
    "\n",
    "# for each subject\n",
    "for subject in tqdm(range(len(current_data))):\n",
    "    \n",
    "    # for each N\n",
    "    for n, policy in enumerate(policies):\n",
    "        load_paths = ['trained_models/models_0911/' + str(policy) + '/' + str(i+1) + '_0.pt' for i in range(num_models)]\n",
    "        models = [] \n",
    "        for load_path in load_paths:\n",
    "            N, t, model = torch.load(load_path)\n",
    "            models.append(model)\n",
    "            \n",
    "        # for each step\n",
    "        for i in range(current_data[0, subject]['c'].shape[0]):\n",
    "\n",
    "            # reset in first step\n",
    "            if not (i % 10):\n",
    "                if n == 0:\n",
    "                    priors = np.zeros((2, 2))\n",
    "                    priors[:, 1] = mean_var\n",
    "                hxs = []\n",
    "                zetas = []\n",
    "                for model in range(num_models):\n",
    "                    hx = [models[model].initial_states(1) for k in range(model_samples)]\n",
    "                    zeta = [models[model].get_zeta(1) for k in range(model_samples)]\n",
    "                    hxs.append(hx)\n",
    "                    zetas.append(zeta)\n",
    "                obs = torch.zeros(1, 2)\n",
    "            else:\n",
    "                obs[0, 0] = current_data[0, subject]['r'][i-1]\n",
    "                obs[0, 1] = float(current_data[0, subject]['c'][i-1, 0]) - 1 \n",
    "            \n",
    "            action_model = 0\n",
    "            for model in range(num_models):\n",
    "                for sample in range(model_samples):\n",
    "                    q_mu, _, hxs[model][sample] = models[model](obs, hxs[model][sample], zetas[model][sample])\n",
    "                    action_model += torch.argmax(q_mu[0]).float().item()\n",
    "                    \n",
    " \n",
    "            action_model = action_model / (model_samples * num_models)\n",
    "            action_model = min(max(action_model, eps), 1-eps)\n",
    "            \n",
    "            action = float(current_data[0, subject]['c'][i, 0]) - 1\n",
    "            reward = current_data[0, subject]['r'][i]\n",
    "                           \n",
    "            \n",
    "            if n == 0:\n",
    "                action_vd = vd.act(priors)\n",
    "                action_vd = min(max(action_vd, eps), 1-eps)\n",
    "                likelihood_human[subject, -1] += action * math.log(action_vd) + (1 - action) * math.log(1 - action_vd)\n",
    "                \n",
    "                alpha = (priors[int(action), 1]) / (priors[int(action), 1] + reward_var)\n",
    "                priors[int(action), 0] = priors[int(action), 0] + alpha * (reward - priors[int(action), 0])\n",
    "                priors[int(action), 1] = priors[int(action), 1] - alpha * priors[int(action), 1]\n",
    "        \n",
    "            likelihood_human[subject, n] += action * math.log(action_model) + (1 - action) * math.log(1 - action_model)\n",
    "        \n",
    "np.save('data/likelihood_human.npy', likelihood_human)    \n",
    "    "
   ]
  },
  {
   "cell_type": "code",
   "execution_count": 51,
   "metadata": {},
   "outputs": [
    {
     "name": "stdout",
     "output_type": "stream",
     "text": [
      "[4 4 1 1 4 4 5 2 4 4 2 4 5 2 1 1 4 4 2 4 1 4 2 4 5 4 2 4 4 2 2 4 1 2 4 1 5\n",
      " 4 4 1 4 5 5 4]\n"
     ]
    },
    {
     "data": {
      "image/png": "[encoded data removed]",
      "text/plain": [
       "<matplotlib.figure.Figure at 0x7f782260fc18>"
      ]
     },
     "metadata": {},
     "output_type": "display_data"
    },
    {
     "name": "stdout",
     "output_type": "stream",
     "text": [
      "72.82237027214069\n",
      "5391.360389564932\n"
     ]
    },
    {
     "data": {
      "image/png": "[encoded data removed]",
      "text/plain": [
       "<matplotlib.figure.Figure at 0x7f782270ee80>"
      ]
     },
     "metadata": {},
     "output_type": "display_data"
    },
    {
     "data": {
      "image/png": "[encoded data removed]",
      "text/plain": [
       "<matplotlib.figure.Figure at 0x7f7822b375c0>"
      ]
     },
     "metadata": {},
     "output_type": "display_data"
    }
   ],
   "source": [
    "from scipy.special import logsumexp\n",
    "\n",
    "plt.rcParams[\"figure.figsize\"] = (8.0, 4.0)\n",
    "plt.rcParams['mathtext.fontset'] = 'stix'\n",
    "plt.rcParams['font.family'] = 'STIXGeneral'\n",
    "\n",
    "likelihood_human = np.load('data/likelihood_human.npy')\n",
    "likelihood_ucbts = np.load('data/likelihood_ucbts.npy')\n",
    "\n",
    "likelihood_all = np.concatenate((likelihood_human, likelihood_ucbts), axis=1)\n",
    "\n",
    "plt.imshow(likelihood_all.T, aspect='auto', alpha=0.8)\n",
    "cb = plt.colorbar()\n",
    "cb.ax.set_yticklabels(cb.ax.get_yticklabels(), fontsize=16)\n",
    "plt.xticks([0, 10, 20, 30, 40],[0, 10, 20, 30, 40], fontsize=16 )\n",
    "plt.xlabel('Participant', fontsize=20)\n",
    "best_model = np.argmax(likelihood_human[:, :len(policies)].T, axis=0)\n",
    "print(best_model)\n",
    "max_entries = np.zeros_like(likelihood_human)\n",
    "for i in range(max_entries.shape[0]):\n",
    "    max_entries[i, best_model[i]] = 1\n",
    "plt.yticks([0, 1, 2, 3, 4, 5, 6, 7, 8], policies + ['Value-Directed'] + ['Thompson'] + ['UCB'],  fontsize=16)\n",
    "\n",
    "\n",
    "plt.savefig('comparison.pdf', bbox_inches='tight')\n",
    "plt.show()\n",
    "\n",
    "plt.rcParams[\"figure.figsize\"] = (6.0, 4.0)\n",
    "plt.rcParams['mathtext.fontset'] = 'stix'\n",
    "plt.rcParams['font.family'] = 'STIXGeneral'\n",
    "\n",
    "plt.rcParams[\"figure.figsize\"] = (6.0, 4.0)\n",
    "plt.rcParams['mathtext.fontset'] = 'stix'\n",
    "plt.rcParams['font.family'] = 'STIXGeneral'\n",
    "\n",
    "logAVGK = np.log(np.mean(np.exp(likelihood_human[:, :6]), 1)) - np.log(np.exp(likelihood_human[:, -1]))\n",
    "\n",
    "print(2 * (np.sum(np.log(1/6) + logsumexp(likelihood_human[:, :6], axis=1)) - np.sum(likelihood_ucbts[:, 0])))\n",
    "print(2 * (np.sum(np.log(1/6) + logsumexp(likelihood_human[:, :6], axis=1)) - np.sum(likelihood_ucbts[:, 1])))\n",
    "\n",
    "plt.bar(np.arange(logAVGK.shape[0]), 2*logAVGK, alpha=0.8, color=sns.xkcd_rgb[\"windows blue\"])\n",
    "plt.tick_params(axis='y', which='both', labelleft='off', labelright='on', right='on', left='off')\n",
    "plt.xlim(-1, logAVGK.shape[0])\n",
    "plt.xlabel('Participant', fontsize=20)\n",
    "plt.ylabel(r'$2 \\  \\log \\ BF_i$', fontsize=20)\n",
    "plt.xticks([0, 10, 20, 30, 40],[0, 10, 20, 30, 40], fontsize=16 )\n",
    "plt.yticks([-40, 0, 80, 160, 240], [-40, 0, 80, 160, 240], fontsize=16)\n",
    "plt.axhline(y=10, linestyle=\"--\", color='black', alpha=0.8, linewidth=2)\n",
    "plt.savefig('comparison3.pdf', bbox_inches='tight')\n",
    "plt.show()\n",
    "\n",
    "plt.hist(best_model)\n",
    "plt.xlim(-0.5, 5.5)\n",
    "plt.show()"
   ]
  },
  {
   "cell_type": "code",
   "execution_count": null,
   "metadata": {},
   "outputs": [],
   "source": []
  }
 ],
 "metadata": {
  "kernelspec": {
   "display_name": "Python 3",
   "language": "python",
   "name": "python3"
  },
  "language_info": {
   "codemirror_mode": {
    "name": "ipython",
    "version": 3
   },
   "file_extension": ".py",
   "mimetype": "text/x-python",
   "name": "python",
   "nbconvert_exporter": "python",
   "pygments_lexer": "ipython3",
   "version": "3.6.4"
  }
 },
 "nbformat": 4,
 "nbformat_minor": 2
}
